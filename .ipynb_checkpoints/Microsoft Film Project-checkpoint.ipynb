{
 "cells": [
  {
   "cell_type": "markdown",
   "metadata": {},
   "source": [
    "# BUSINESS QUESTIONS\n",
    "* What is highest and lowest budgets used and for which movies\n",
    "* What is the target audience(target genre)\n",
    "* Which movies have the highest icome and the genre as well\n",
    "* The top performing studios"
   ]
  },
  {
   "cell_type": "markdown",
   "metadata": {},
   "source": [
    "#  MICROSOFT MOVIE PROJECT"
   ]
  },
  {
   "cell_type": "markdown",
   "metadata": {},
   "source": [
    "The aim of this projct is to give high reccommendations of movies Microsoft can use to create. Analysis will be performed moreso correlation to give us the reccoommendations Microsoft can use. EDA and data analysis will be performed. Also answered are the business questions helped to formulate the recommendation ad solution that will be provided."
   ]
  },
  {
   "cell_type": "markdown",
   "metadata": {},
   "source": [
    "#  1)In depth understanding of the Data"
   ]
  },
  {
   "cell_type": "code",
   "execution_count": 125,
   "metadata": {},
   "outputs": [],
   "source": [
    "#Import the libraries needed: pandas, numpy and matplotlib\n",
    "import pandas as pd\n",
    "import numpy as np\n",
    "import csv\n",
    "import seaborn as sns\n",
    "import matplotlib.pyplot as plt\n",
    "import sqlite3\n",
    "import zipfile\n",
    "%matplotlib inline"
   ]
  },
  {
   "cell_type": "code",
   "execution_count": 126,
   "metadata": {},
   "outputs": [],
   "source": [
    "#load the datasets that will be used \n",
    "bom_movie_df = pd.read_csv('zippedData/bom.movie_gross.csv', index_col=0)\n",
    "\n",
    "#load the dataset #tn.movie_budgets.csv\n",
    "tn_df = pd.read_csv('zippedData/tn.movie_budgets.csv', index_col=0)\n",
    "\n",
    "\n",
    "#load the dataset # rt.movie_info.tsv\n",
    "movieinfo_df = pd.read_csv('zippedData/rt.movie_info.tsv', sep = '\\t')\n",
    "\n",
    "\n",
    "#load the dataset #tmdb.movies.csz\n",
    "tmdb_df = pd.read_csv('zippedData/tmdb.movies.csv', index_col=0)\n",
    "\n",
    "#load the dataset im.db"
   ]
  },
  {
   "cell_type": "code",
   "execution_count": 127,
   "metadata": {
    "scrolled": true
   },
   "outputs": [
    {
     "data": {
      "text/html": [
       "<div>\n",
       "<style scoped>\n",
       "    .dataframe tbody tr th:only-of-type {\n",
       "        vertical-align: middle;\n",
       "    }\n",
       "\n",
       "    .dataframe tbody tr th {\n",
       "        vertical-align: top;\n",
       "    }\n",
       "\n",
       "    .dataframe thead th {\n",
       "        text-align: right;\n",
       "    }\n",
       "</style>\n",
       "<table border=\"1\" class=\"dataframe\">\n",
       "  <thead>\n",
       "    <tr style=\"text-align: right;\">\n",
       "      <th></th>\n",
       "      <th>studio</th>\n",
       "      <th>domestic_gross</th>\n",
       "      <th>foreign_gross</th>\n",
       "      <th>year</th>\n",
       "    </tr>\n",
       "    <tr>\n",
       "      <th>title</th>\n",
       "      <th></th>\n",
       "      <th></th>\n",
       "      <th></th>\n",
       "      <th></th>\n",
       "    </tr>\n",
       "  </thead>\n",
       "  <tbody>\n",
       "    <tr>\n",
       "      <th>Toy Story 3</th>\n",
       "      <td>BV</td>\n",
       "      <td>415000000.0</td>\n",
       "      <td>652000000</td>\n",
       "      <td>2010</td>\n",
       "    </tr>\n",
       "    <tr>\n",
       "      <th>Alice in Wonderland (2010)</th>\n",
       "      <td>BV</td>\n",
       "      <td>334200000.0</td>\n",
       "      <td>691300000</td>\n",
       "      <td>2010</td>\n",
       "    </tr>\n",
       "    <tr>\n",
       "      <th>Harry Potter and the Deathly Hallows Part 1</th>\n",
       "      <td>WB</td>\n",
       "      <td>296000000.0</td>\n",
       "      <td>664300000</td>\n",
       "      <td>2010</td>\n",
       "    </tr>\n",
       "    <tr>\n",
       "      <th>Inception</th>\n",
       "      <td>WB</td>\n",
       "      <td>292600000.0</td>\n",
       "      <td>535700000</td>\n",
       "      <td>2010</td>\n",
       "    </tr>\n",
       "    <tr>\n",
       "      <th>Shrek Forever After</th>\n",
       "      <td>P/DW</td>\n",
       "      <td>238700000.0</td>\n",
       "      <td>513900000</td>\n",
       "      <td>2010</td>\n",
       "    </tr>\n",
       "    <tr>\n",
       "      <th>...</th>\n",
       "      <td>...</td>\n",
       "      <td>...</td>\n",
       "      <td>...</td>\n",
       "      <td>...</td>\n",
       "    </tr>\n",
       "    <tr>\n",
       "      <th>The Quake</th>\n",
       "      <td>Magn.</td>\n",
       "      <td>6200.0</td>\n",
       "      <td>NaN</td>\n",
       "      <td>2018</td>\n",
       "    </tr>\n",
       "    <tr>\n",
       "      <th>Edward II (2018 re-release)</th>\n",
       "      <td>FM</td>\n",
       "      <td>4800.0</td>\n",
       "      <td>NaN</td>\n",
       "      <td>2018</td>\n",
       "    </tr>\n",
       "    <tr>\n",
       "      <th>El Pacto</th>\n",
       "      <td>Sony</td>\n",
       "      <td>2500.0</td>\n",
       "      <td>NaN</td>\n",
       "      <td>2018</td>\n",
       "    </tr>\n",
       "    <tr>\n",
       "      <th>The Swan</th>\n",
       "      <td>Synergetic</td>\n",
       "      <td>2400.0</td>\n",
       "      <td>NaN</td>\n",
       "      <td>2018</td>\n",
       "    </tr>\n",
       "    <tr>\n",
       "      <th>An Actor Prepares</th>\n",
       "      <td>Grav.</td>\n",
       "      <td>1700.0</td>\n",
       "      <td>NaN</td>\n",
       "      <td>2018</td>\n",
       "    </tr>\n",
       "  </tbody>\n",
       "</table>\n",
       "<p>3387 rows × 4 columns</p>\n",
       "</div>"
      ],
      "text/plain": [
       "                                                 studio  domestic_gross  \\\n",
       "title                                                                     \n",
       "Toy Story 3                                          BV     415000000.0   \n",
       "Alice in Wonderland (2010)                           BV     334200000.0   \n",
       "Harry Potter and the Deathly Hallows Part 1          WB     296000000.0   \n",
       "Inception                                            WB     292600000.0   \n",
       "Shrek Forever After                                P/DW     238700000.0   \n",
       "...                                                 ...             ...   \n",
       "The Quake                                         Magn.          6200.0   \n",
       "Edward II (2018 re-release)                          FM          4800.0   \n",
       "El Pacto                                           Sony          2500.0   \n",
       "The Swan                                     Synergetic          2400.0   \n",
       "An Actor Prepares                                 Grav.          1700.0   \n",
       "\n",
       "                                            foreign_gross  year  \n",
       "title                                                            \n",
       "Toy Story 3                                     652000000  2010  \n",
       "Alice in Wonderland (2010)                      691300000  2010  \n",
       "Harry Potter and the Deathly Hallows Part 1     664300000  2010  \n",
       "Inception                                       535700000  2010  \n",
       "Shrek Forever After                             513900000  2010  \n",
       "...                                                   ...   ...  \n",
       "The Quake                                             NaN  2018  \n",
       "Edward II (2018 re-release)                           NaN  2018  \n",
       "El Pacto                                              NaN  2018  \n",
       "The Swan                                              NaN  2018  \n",
       "An Actor Prepares                                     NaN  2018  \n",
       "\n",
       "[3387 rows x 4 columns]"
      ]
     },
     "execution_count": 127,
     "metadata": {},
     "output_type": "execute_result"
    }
   ],
   "source": [
    "bom_movie_df = pd.read_csv('zippedData/bom.movie_gross.csv', index_col=0)\n",
    "bom_movie_df"
   ]
  },
  {
   "cell_type": "code",
   "execution_count": 128,
   "metadata": {},
   "outputs": [
    {
     "data": {
      "text/html": [
       "<div>\n",
       "<style scoped>\n",
       "    .dataframe tbody tr th:only-of-type {\n",
       "        vertical-align: middle;\n",
       "    }\n",
       "\n",
       "    .dataframe tbody tr th {\n",
       "        vertical-align: top;\n",
       "    }\n",
       "\n",
       "    .dataframe thead th {\n",
       "        text-align: right;\n",
       "    }\n",
       "</style>\n",
       "<table border=\"1\" class=\"dataframe\">\n",
       "  <thead>\n",
       "    <tr style=\"text-align: right;\">\n",
       "      <th></th>\n",
       "      <th>domestic_gross</th>\n",
       "      <th>year</th>\n",
       "    </tr>\n",
       "  </thead>\n",
       "  <tbody>\n",
       "    <tr>\n",
       "      <th>count</th>\n",
       "      <td>3.359000e+03</td>\n",
       "      <td>3387.000000</td>\n",
       "    </tr>\n",
       "    <tr>\n",
       "      <th>mean</th>\n",
       "      <td>2.874585e+07</td>\n",
       "      <td>2013.958075</td>\n",
       "    </tr>\n",
       "    <tr>\n",
       "      <th>std</th>\n",
       "      <td>6.698250e+07</td>\n",
       "      <td>2.478141</td>\n",
       "    </tr>\n",
       "    <tr>\n",
       "      <th>min</th>\n",
       "      <td>1.000000e+02</td>\n",
       "      <td>2010.000000</td>\n",
       "    </tr>\n",
       "    <tr>\n",
       "      <th>25%</th>\n",
       "      <td>1.200000e+05</td>\n",
       "      <td>2012.000000</td>\n",
       "    </tr>\n",
       "    <tr>\n",
       "      <th>50%</th>\n",
       "      <td>1.400000e+06</td>\n",
       "      <td>2014.000000</td>\n",
       "    </tr>\n",
       "    <tr>\n",
       "      <th>75%</th>\n",
       "      <td>2.790000e+07</td>\n",
       "      <td>2016.000000</td>\n",
       "    </tr>\n",
       "    <tr>\n",
       "      <th>max</th>\n",
       "      <td>9.367000e+08</td>\n",
       "      <td>2018.000000</td>\n",
       "    </tr>\n",
       "  </tbody>\n",
       "</table>\n",
       "</div>"
      ],
      "text/plain": [
       "       domestic_gross         year\n",
       "count    3.359000e+03  3387.000000\n",
       "mean     2.874585e+07  2013.958075\n",
       "std      6.698250e+07     2.478141\n",
       "min      1.000000e+02  2010.000000\n",
       "25%      1.200000e+05  2012.000000\n",
       "50%      1.400000e+06  2014.000000\n",
       "75%      2.790000e+07  2016.000000\n",
       "max      9.367000e+08  2018.000000"
      ]
     },
     "execution_count": 128,
     "metadata": {},
     "output_type": "execute_result"
    }
   ],
   "source": [
    "bom_movie_df.describe()"
   ]
  },
  {
   "cell_type": "code",
   "execution_count": 129,
   "metadata": {},
   "outputs": [
    {
     "data": {
      "text/html": [
       "<div>\n",
       "<style scoped>\n",
       "    .dataframe tbody tr th:only-of-type {\n",
       "        vertical-align: middle;\n",
       "    }\n",
       "\n",
       "    .dataframe tbody tr th {\n",
       "        vertical-align: top;\n",
       "    }\n",
       "\n",
       "    .dataframe thead th {\n",
       "        text-align: right;\n",
       "    }\n",
       "</style>\n",
       "<table border=\"1\" class=\"dataframe\">\n",
       "  <thead>\n",
       "    <tr style=\"text-align: right;\">\n",
       "      <th></th>\n",
       "      <th>release_date</th>\n",
       "      <th>movie</th>\n",
       "      <th>production_budget</th>\n",
       "      <th>domestic_gross</th>\n",
       "      <th>worldwide_gross</th>\n",
       "    </tr>\n",
       "    <tr>\n",
       "      <th>id</th>\n",
       "      <th></th>\n",
       "      <th></th>\n",
       "      <th></th>\n",
       "      <th></th>\n",
       "      <th></th>\n",
       "    </tr>\n",
       "  </thead>\n",
       "  <tbody>\n",
       "    <tr>\n",
       "      <th>1</th>\n",
       "      <td>Dec 18, 2009</td>\n",
       "      <td>Avatar</td>\n",
       "      <td>$425,000,000</td>\n",
       "      <td>$760,507,625</td>\n",
       "      <td>$2,776,345,279</td>\n",
       "    </tr>\n",
       "    <tr>\n",
       "      <th>2</th>\n",
       "      <td>May 20, 2011</td>\n",
       "      <td>Pirates of the Caribbean: On Stranger Tides</td>\n",
       "      <td>$410,600,000</td>\n",
       "      <td>$241,063,875</td>\n",
       "      <td>$1,045,663,875</td>\n",
       "    </tr>\n",
       "    <tr>\n",
       "      <th>3</th>\n",
       "      <td>Jun 7, 2019</td>\n",
       "      <td>Dark Phoenix</td>\n",
       "      <td>$350,000,000</td>\n",
       "      <td>$42,762,350</td>\n",
       "      <td>$149,762,350</td>\n",
       "    </tr>\n",
       "    <tr>\n",
       "      <th>4</th>\n",
       "      <td>May 1, 2015</td>\n",
       "      <td>Avengers: Age of Ultron</td>\n",
       "      <td>$330,600,000</td>\n",
       "      <td>$459,005,868</td>\n",
       "      <td>$1,403,013,963</td>\n",
       "    </tr>\n",
       "    <tr>\n",
       "      <th>5</th>\n",
       "      <td>Dec 15, 2017</td>\n",
       "      <td>Star Wars Ep. VIII: The Last Jedi</td>\n",
       "      <td>$317,000,000</td>\n",
       "      <td>$620,181,382</td>\n",
       "      <td>$1,316,721,747</td>\n",
       "    </tr>\n",
       "    <tr>\n",
       "      <th>...</th>\n",
       "      <td>...</td>\n",
       "      <td>...</td>\n",
       "      <td>...</td>\n",
       "      <td>...</td>\n",
       "      <td>...</td>\n",
       "    </tr>\n",
       "    <tr>\n",
       "      <th>78</th>\n",
       "      <td>Dec 31, 2018</td>\n",
       "      <td>Red 11</td>\n",
       "      <td>$7,000</td>\n",
       "      <td>$0</td>\n",
       "      <td>$0</td>\n",
       "    </tr>\n",
       "    <tr>\n",
       "      <th>79</th>\n",
       "      <td>Apr 2, 1999</td>\n",
       "      <td>Following</td>\n",
       "      <td>$6,000</td>\n",
       "      <td>$48,482</td>\n",
       "      <td>$240,495</td>\n",
       "    </tr>\n",
       "    <tr>\n",
       "      <th>80</th>\n",
       "      <td>Jul 13, 2005</td>\n",
       "      <td>Return to the Land of Wonders</td>\n",
       "      <td>$5,000</td>\n",
       "      <td>$1,338</td>\n",
       "      <td>$1,338</td>\n",
       "    </tr>\n",
       "    <tr>\n",
       "      <th>81</th>\n",
       "      <td>Sep 29, 2015</td>\n",
       "      <td>A Plague So Pleasant</td>\n",
       "      <td>$1,400</td>\n",
       "      <td>$0</td>\n",
       "      <td>$0</td>\n",
       "    </tr>\n",
       "    <tr>\n",
       "      <th>82</th>\n",
       "      <td>Aug 5, 2005</td>\n",
       "      <td>My Date With Drew</td>\n",
       "      <td>$1,100</td>\n",
       "      <td>$181,041</td>\n",
       "      <td>$181,041</td>\n",
       "    </tr>\n",
       "  </tbody>\n",
       "</table>\n",
       "<p>5782 rows × 5 columns</p>\n",
       "</div>"
      ],
      "text/plain": [
       "    release_date                                        movie  \\\n",
       "id                                                              \n",
       "1   Dec 18, 2009                                       Avatar   \n",
       "2   May 20, 2011  Pirates of the Caribbean: On Stranger Tides   \n",
       "3    Jun 7, 2019                                 Dark Phoenix   \n",
       "4    May 1, 2015                      Avengers: Age of Ultron   \n",
       "5   Dec 15, 2017            Star Wars Ep. VIII: The Last Jedi   \n",
       "..           ...                                          ...   \n",
       "78  Dec 31, 2018                                       Red 11   \n",
       "79   Apr 2, 1999                                    Following   \n",
       "80  Jul 13, 2005                Return to the Land of Wonders   \n",
       "81  Sep 29, 2015                         A Plague So Pleasant   \n",
       "82   Aug 5, 2005                            My Date With Drew   \n",
       "\n",
       "   production_budget domestic_gross worldwide_gross  \n",
       "id                                                   \n",
       "1       $425,000,000   $760,507,625  $2,776,345,279  \n",
       "2       $410,600,000   $241,063,875  $1,045,663,875  \n",
       "3       $350,000,000    $42,762,350    $149,762,350  \n",
       "4       $330,600,000   $459,005,868  $1,403,013,963  \n",
       "5       $317,000,000   $620,181,382  $1,316,721,747  \n",
       "..               ...            ...             ...  \n",
       "78            $7,000             $0              $0  \n",
       "79            $6,000        $48,482        $240,495  \n",
       "80            $5,000         $1,338          $1,338  \n",
       "81            $1,400             $0              $0  \n",
       "82            $1,100       $181,041        $181,041  \n",
       "\n",
       "[5782 rows x 5 columns]"
      ]
     },
     "execution_count": 129,
     "metadata": {},
     "output_type": "execute_result"
    }
   ],
   "source": [
    "tn_df = pd.read_csv('zippedData/tn.movie_budgets.csv', index_col=0)\n",
    "tn_df"
   ]
  },
  {
   "cell_type": "code",
   "execution_count": 130,
   "metadata": {},
   "outputs": [
    {
     "data": {
      "text/html": [
       "<div>\n",
       "<style scoped>\n",
       "    .dataframe tbody tr th:only-of-type {\n",
       "        vertical-align: middle;\n",
       "    }\n",
       "\n",
       "    .dataframe tbody tr th {\n",
       "        vertical-align: top;\n",
       "    }\n",
       "\n",
       "    .dataframe thead th {\n",
       "        text-align: right;\n",
       "    }\n",
       "</style>\n",
       "<table border=\"1\" class=\"dataframe\">\n",
       "  <thead>\n",
       "    <tr style=\"text-align: right;\">\n",
       "      <th></th>\n",
       "      <th>release_date</th>\n",
       "      <th>movie</th>\n",
       "      <th>production_budget</th>\n",
       "      <th>domestic_gross</th>\n",
       "      <th>worldwide_gross</th>\n",
       "    </tr>\n",
       "  </thead>\n",
       "  <tbody>\n",
       "    <tr>\n",
       "      <th>count</th>\n",
       "      <td>5782</td>\n",
       "      <td>5782</td>\n",
       "      <td>5782</td>\n",
       "      <td>5782</td>\n",
       "      <td>5782</td>\n",
       "    </tr>\n",
       "    <tr>\n",
       "      <th>unique</th>\n",
       "      <td>2418</td>\n",
       "      <td>5698</td>\n",
       "      <td>509</td>\n",
       "      <td>5164</td>\n",
       "      <td>5356</td>\n",
       "    </tr>\n",
       "    <tr>\n",
       "      <th>top</th>\n",
       "      <td>Dec 31, 2014</td>\n",
       "      <td>Halloween</td>\n",
       "      <td>$20,000,000</td>\n",
       "      <td>$0</td>\n",
       "      <td>$0</td>\n",
       "    </tr>\n",
       "    <tr>\n",
       "      <th>freq</th>\n",
       "      <td>24</td>\n",
       "      <td>3</td>\n",
       "      <td>231</td>\n",
       "      <td>548</td>\n",
       "      <td>367</td>\n",
       "    </tr>\n",
       "  </tbody>\n",
       "</table>\n",
       "</div>"
      ],
      "text/plain": [
       "        release_date      movie production_budget domestic_gross  \\\n",
       "count           5782       5782              5782           5782   \n",
       "unique          2418       5698               509           5164   \n",
       "top     Dec 31, 2014  Halloween       $20,000,000             $0   \n",
       "freq              24          3               231            548   \n",
       "\n",
       "       worldwide_gross  \n",
       "count             5782  \n",
       "unique            5356  \n",
       "top                 $0  \n",
       "freq               367  "
      ]
     },
     "execution_count": 130,
     "metadata": {},
     "output_type": "execute_result"
    }
   ],
   "source": [
    "tn_df.describe()"
   ]
  },
  {
   "cell_type": "markdown",
   "metadata": {},
   "source": [
    "#  Merge the tables that will be required"
   ]
  },
  {
   "cell_type": "markdown",
   "metadata": {},
   "source": [
    " bom_movie_df ' and ' tn_df '. In this case the recommended method of joining the tables is by use of concact method. using the join method in this case overlaps the columns and also some of these columns have a differrent data type, hence recommend concact. Shape of the merged data With the merged dataset we have to know the shape of the dataset. Columns, rows, statistics in this case the mean, median and standard deviation."
   ]
  },
  {
   "cell_type": "code",
   "execution_count": 131,
   "metadata": {},
   "outputs": [
    {
     "data": {
      "text/html": [
       "<div>\n",
       "<style scoped>\n",
       "    .dataframe tbody tr th:only-of-type {\n",
       "        vertical-align: middle;\n",
       "    }\n",
       "\n",
       "    .dataframe tbody tr th {\n",
       "        vertical-align: top;\n",
       "    }\n",
       "\n",
       "    .dataframe thead th {\n",
       "        text-align: right;\n",
       "    }\n",
       "</style>\n",
       "<table border=\"1\" class=\"dataframe\">\n",
       "  <thead>\n",
       "    <tr style=\"text-align: right;\">\n",
       "      <th></th>\n",
       "      <th>studio</th>\n",
       "      <th>domestic_gross_x</th>\n",
       "      <th>foreign_gross</th>\n",
       "      <th>year</th>\n",
       "      <th>release_date</th>\n",
       "      <th>movie</th>\n",
       "      <th>production_budget</th>\n",
       "      <th>domestic_gross_y</th>\n",
       "      <th>worldwide_gross</th>\n",
       "    </tr>\n",
       "  </thead>\n",
       "  <tbody>\n",
       "    <tr>\n",
       "      <th>0</th>\n",
       "      <td>BV</td>\n",
       "      <td>415000000.0</td>\n",
       "      <td>652000000</td>\n",
       "      <td>2010</td>\n",
       "      <td>Jun 18, 2010</td>\n",
       "      <td>Toy Story 3</td>\n",
       "      <td>$200,000,000</td>\n",
       "      <td>$415,004,880</td>\n",
       "      <td>$1,068,879,522</td>\n",
       "    </tr>\n",
       "    <tr>\n",
       "      <th>1</th>\n",
       "      <td>WB</td>\n",
       "      <td>292600000.0</td>\n",
       "      <td>535700000</td>\n",
       "      <td>2010</td>\n",
       "      <td>Jul 16, 2010</td>\n",
       "      <td>Inception</td>\n",
       "      <td>$160,000,000</td>\n",
       "      <td>$292,576,195</td>\n",
       "      <td>$835,524,642</td>\n",
       "    </tr>\n",
       "    <tr>\n",
       "      <th>2</th>\n",
       "      <td>P/DW</td>\n",
       "      <td>238700000.0</td>\n",
       "      <td>513900000</td>\n",
       "      <td>2010</td>\n",
       "      <td>May 21, 2010</td>\n",
       "      <td>Shrek Forever After</td>\n",
       "      <td>$165,000,000</td>\n",
       "      <td>$238,736,787</td>\n",
       "      <td>$756,244,673</td>\n",
       "    </tr>\n",
       "    <tr>\n",
       "      <th>3</th>\n",
       "      <td>Sum.</td>\n",
       "      <td>300500000.0</td>\n",
       "      <td>398000000</td>\n",
       "      <td>2010</td>\n",
       "      <td>Jun 30, 2010</td>\n",
       "      <td>The Twilight Saga: Eclipse</td>\n",
       "      <td>$68,000,000</td>\n",
       "      <td>$300,531,751</td>\n",
       "      <td>$706,102,828</td>\n",
       "    </tr>\n",
       "    <tr>\n",
       "      <th>4</th>\n",
       "      <td>Par.</td>\n",
       "      <td>312400000.0</td>\n",
       "      <td>311500000</td>\n",
       "      <td>2010</td>\n",
       "      <td>May 7, 2010</td>\n",
       "      <td>Iron Man 2</td>\n",
       "      <td>$170,000,000</td>\n",
       "      <td>$312,433,331</td>\n",
       "      <td>$621,156,389</td>\n",
       "    </tr>\n",
       "    <tr>\n",
       "      <th>...</th>\n",
       "      <td>...</td>\n",
       "      <td>...</td>\n",
       "      <td>...</td>\n",
       "      <td>...</td>\n",
       "      <td>...</td>\n",
       "      <td>...</td>\n",
       "      <td>...</td>\n",
       "      <td>...</td>\n",
       "      <td>...</td>\n",
       "    </tr>\n",
       "    <tr>\n",
       "      <th>1242</th>\n",
       "      <td>VE</td>\n",
       "      <td>4300000.0</td>\n",
       "      <td>NaN</td>\n",
       "      <td>2018</td>\n",
       "      <td>Jun 15, 2018</td>\n",
       "      <td>Gotti</td>\n",
       "      <td>$10,000,000</td>\n",
       "      <td>$4,286,367</td>\n",
       "      <td>$6,089,100</td>\n",
       "    </tr>\n",
       "    <tr>\n",
       "      <th>1243</th>\n",
       "      <td>RAtt.</td>\n",
       "      <td>3700000.0</td>\n",
       "      <td>NaN</td>\n",
       "      <td>2018</td>\n",
       "      <td>Dec 7, 2018</td>\n",
       "      <td>Ben is Back</td>\n",
       "      <td>$13,000,000</td>\n",
       "      <td>$3,703,182</td>\n",
       "      <td>$9,633,111</td>\n",
       "    </tr>\n",
       "    <tr>\n",
       "      <th>1244</th>\n",
       "      <td>VE</td>\n",
       "      <td>491000.0</td>\n",
       "      <td>1700000</td>\n",
       "      <td>2018</td>\n",
       "      <td>Feb 2, 2018</td>\n",
       "      <td>Bilal: A New Breed of Hero</td>\n",
       "      <td>$30,000,000</td>\n",
       "      <td>$490,973</td>\n",
       "      <td>$648,599</td>\n",
       "    </tr>\n",
       "    <tr>\n",
       "      <th>1245</th>\n",
       "      <td>RLJ</td>\n",
       "      <td>1200000.0</td>\n",
       "      <td>NaN</td>\n",
       "      <td>2018</td>\n",
       "      <td>Sep 14, 2018</td>\n",
       "      <td>Mandy</td>\n",
       "      <td>$6,000,000</td>\n",
       "      <td>$1,214,525</td>\n",
       "      <td>$1,427,656</td>\n",
       "    </tr>\n",
       "    <tr>\n",
       "      <th>1246</th>\n",
       "      <td>A24</td>\n",
       "      <td>1200000.0</td>\n",
       "      <td>NaN</td>\n",
       "      <td>2018</td>\n",
       "      <td>Apr 6, 2018</td>\n",
       "      <td>Lean on Pete</td>\n",
       "      <td>$8,000,000</td>\n",
       "      <td>$1,163,056</td>\n",
       "      <td>$2,455,027</td>\n",
       "    </tr>\n",
       "  </tbody>\n",
       "</table>\n",
       "<p>1247 rows × 9 columns</p>\n",
       "</div>"
      ],
      "text/plain": [
       "     studio  domestic_gross_x foreign_gross  year  release_date  \\\n",
       "0        BV       415000000.0     652000000  2010  Jun 18, 2010   \n",
       "1        WB       292600000.0     535700000  2010  Jul 16, 2010   \n",
       "2      P/DW       238700000.0     513900000  2010  May 21, 2010   \n",
       "3      Sum.       300500000.0     398000000  2010  Jun 30, 2010   \n",
       "4      Par.       312400000.0     311500000  2010   May 7, 2010   \n",
       "...     ...               ...           ...   ...           ...   \n",
       "1242     VE         4300000.0           NaN  2018  Jun 15, 2018   \n",
       "1243  RAtt.         3700000.0           NaN  2018   Dec 7, 2018   \n",
       "1244     VE          491000.0       1700000  2018   Feb 2, 2018   \n",
       "1245    RLJ         1200000.0           NaN  2018  Sep 14, 2018   \n",
       "1246    A24         1200000.0           NaN  2018   Apr 6, 2018   \n",
       "\n",
       "                           movie production_budget domestic_gross_y  \\\n",
       "0                    Toy Story 3      $200,000,000     $415,004,880   \n",
       "1                      Inception      $160,000,000     $292,576,195   \n",
       "2            Shrek Forever After      $165,000,000     $238,736,787   \n",
       "3     The Twilight Saga: Eclipse       $68,000,000     $300,531,751   \n",
       "4                     Iron Man 2      $170,000,000     $312,433,331   \n",
       "...                          ...               ...              ...   \n",
       "1242                       Gotti       $10,000,000       $4,286,367   \n",
       "1243                 Ben is Back       $13,000,000       $3,703,182   \n",
       "1244  Bilal: A New Breed of Hero       $30,000,000         $490,973   \n",
       "1245                       Mandy        $6,000,000       $1,214,525   \n",
       "1246                Lean on Pete        $8,000,000       $1,163,056   \n",
       "\n",
       "     worldwide_gross  \n",
       "0     $1,068,879,522  \n",
       "1       $835,524,642  \n",
       "2       $756,244,673  \n",
       "3       $706,102,828  \n",
       "4       $621,156,389  \n",
       "...              ...  \n",
       "1242      $6,089,100  \n",
       "1243      $9,633,111  \n",
       "1244        $648,599  \n",
       "1245      $1,427,656  \n",
       "1246      $2,455,027  \n",
       "\n",
       "[1247 rows x 9 columns]"
      ]
     },
     "execution_count": 131,
     "metadata": {},
     "output_type": "execute_result"
    }
   ],
   "source": [
    "#merged data \n",
    "new_movie_df = pd.merge(bom_movie_df,tn_df, how = \"inner\", left_on=\"title\",right_on =\"movie\")\n",
    "new_movie_df"
   ]
  },
  {
   "cell_type": "code",
   "execution_count": 132,
   "metadata": {},
   "outputs": [
    {
     "data": {
      "text/plain": [
       "(1247, 9)"
      ]
     },
     "execution_count": 132,
     "metadata": {},
     "output_type": "execute_result"
    }
   ],
   "source": [
    "#In this case we have 9169 rows and 8 columns\n",
    "new_movie_df.shape"
   ]
  },
  {
   "cell_type": "code",
   "execution_count": 133,
   "metadata": {},
   "outputs": [
    {
     "data": {
      "text/plain": [
       "Index(['studio', 'domestic_gross_x', 'foreign_gross', 'year', 'release_date',\n",
       "       'movie', 'production_budget', 'domestic_gross_y', 'worldwide_gross'],\n",
       "      dtype='object')"
      ]
     },
     "execution_count": 133,
     "metadata": {},
     "output_type": "execute_result"
    }
   ],
   "source": [
    "#The .columns() function is used to identify the column names of the dataframe\n",
    "new_movie_df.columns"
   ]
  },
  {
   "cell_type": "code",
   "execution_count": 134,
   "metadata": {},
   "outputs": [
    {
     "name": "stdout",
     "output_type": "stream",
     "text": [
      "<class 'pandas.core.frame.DataFrame'>\n",
      "Int64Index: 1247 entries, 0 to 1246\n",
      "Data columns (total 9 columns):\n",
      " #   Column             Non-Null Count  Dtype  \n",
      "---  ------             --------------  -----  \n",
      " 0   studio             1246 non-null   object \n",
      " 1   domestic_gross_x   1245 non-null   float64\n",
      " 2   foreign_gross      1086 non-null   object \n",
      " 3   year               1247 non-null   int64  \n",
      " 4   release_date       1247 non-null   object \n",
      " 5   movie              1247 non-null   object \n",
      " 6   production_budget  1247 non-null   object \n",
      " 7   domestic_gross_y   1247 non-null   object \n",
      " 8   worldwide_gross    1247 non-null   object \n",
      "dtypes: float64(1), int64(1), object(7)\n",
      "memory usage: 97.4+ KB\n"
     ]
    }
   ],
   "source": [
    "#Used the .info() function to give the column names and the datatypes. In this case there are two types of data types object and float\n",
    "new_movie_df.info()"
   ]
  },
  {
   "cell_type": "code",
   "execution_count": 135,
   "metadata": {},
   "outputs": [
    {
     "data": {
      "text/plain": [
       "studio                object\n",
       "domestic_gross_x     float64\n",
       "foreign_gross         object\n",
       "year                  object\n",
       "release_date          object\n",
       "movie                 object\n",
       "production_budget     object\n",
       "domestic_gross_y      object\n",
       "worldwide_gross       object\n",
       "dtype: object"
      ]
     },
     "execution_count": 135,
     "metadata": {},
     "output_type": "execute_result"
    }
   ],
   "source": [
    "#Change the 'Year' to the Dtype 'Object'\n",
    "new_movie_df = new_movie_df.astype({'year':'object'})\n",
    "new_movie_df.dtypes"
   ]
  },
  {
   "cell_type": "code",
   "execution_count": 136,
   "metadata": {},
   "outputs": [
    {
     "data": {
      "text/html": [
       "<div>\n",
       "<style scoped>\n",
       "    .dataframe tbody tr th:only-of-type {\n",
       "        vertical-align: middle;\n",
       "    }\n",
       "\n",
       "    .dataframe tbody tr th {\n",
       "        vertical-align: top;\n",
       "    }\n",
       "\n",
       "    .dataframe thead th {\n",
       "        text-align: right;\n",
       "    }\n",
       "</style>\n",
       "<table border=\"1\" class=\"dataframe\">\n",
       "  <thead>\n",
       "    <tr style=\"text-align: right;\">\n",
       "      <th></th>\n",
       "      <th>domestic_gross_x</th>\n",
       "    </tr>\n",
       "  </thead>\n",
       "  <tbody>\n",
       "    <tr>\n",
       "      <th>count</th>\n",
       "      <td>1.245000e+03</td>\n",
       "    </tr>\n",
       "    <tr>\n",
       "      <th>mean</th>\n",
       "      <td>6.062353e+07</td>\n",
       "    </tr>\n",
       "    <tr>\n",
       "      <th>std</th>\n",
       "      <td>8.477607e+07</td>\n",
       "    </tr>\n",
       "    <tr>\n",
       "      <th>min</th>\n",
       "      <td>8.000000e+02</td>\n",
       "    </tr>\n",
       "    <tr>\n",
       "      <th>25%</th>\n",
       "      <td>7.500000e+06</td>\n",
       "    </tr>\n",
       "    <tr>\n",
       "      <th>50%</th>\n",
       "      <td>3.340000e+07</td>\n",
       "    </tr>\n",
       "    <tr>\n",
       "      <th>75%</th>\n",
       "      <td>7.420000e+07</td>\n",
       "    </tr>\n",
       "    <tr>\n",
       "      <th>max</th>\n",
       "      <td>7.001000e+08</td>\n",
       "    </tr>\n",
       "  </tbody>\n",
       "</table>\n",
       "</div>"
      ],
      "text/plain": [
       "       domestic_gross_x\n",
       "count      1.245000e+03\n",
       "mean       6.062353e+07\n",
       "std        8.477607e+07\n",
       "min        8.000000e+02\n",
       "25%        7.500000e+06\n",
       "50%        3.340000e+07\n",
       "75%        7.420000e+07\n",
       "max        7.001000e+08"
      ]
     },
     "execution_count": 136,
     "metadata": {},
     "output_type": "execute_result"
    }
   ],
   "source": [
    "#To know the statistics of the data: Mean, Median and std, count etc \n",
    "new_movie_df.describe()"
   ]
  },
  {
   "cell_type": "markdown",
   "metadata": {},
   "source": [
    "# 2 )Data Preparation"
   ]
  },
  {
   "cell_type": "markdown",
   "metadata": {},
   "source": [
    "With the merged dataset, we have to perform EDA. In this case, we identify duplicated values, missing values and the percentage of the missing values. Using the Percentage in this case will give us a method or rather solution to the missing values: drop the missing values or use diffrerent methods to fill the missing values. Henceforth, we perform data cleaning to reduce inconsistency and improve accuracy"
   ]
  },
  {
   "cell_type": "markdown",
   "metadata": {},
   "source": [
    "#  2.1) Check for duplicate values"
   ]
  },
  {
   "cell_type": "code",
   "execution_count": 137,
   "metadata": {},
   "outputs": [
    {
     "data": {
      "text/plain": [
       "False    1247\n",
       "dtype: int64"
      ]
     },
     "execution_count": 137,
     "metadata": {},
     "output_type": "execute_result"
    }
   ],
   "source": [
    "#Identify the duplicated values and check how many we have.\n",
    "new_movie_df.duplicated().value_counts()"
   ]
  },
  {
   "cell_type": "code",
   "execution_count": 138,
   "metadata": {},
   "outputs": [
    {
     "data": {
      "text/plain": [
       "(1247, 9)"
      ]
     },
     "execution_count": 138,
     "metadata": {},
     "output_type": "execute_result"
    }
   ],
   "source": [
    "#We reomove the duplicated values and this makes a diffrence from the previous. \n",
    "new_movie_df = new_movie_df.drop_duplicates()\n",
    "new_movie_df.shape"
   ]
  },
  {
   "cell_type": "markdown",
   "metadata": {},
   "source": [
    "# 2.1) Missing values"
   ]
  },
  {
   "cell_type": "code",
   "execution_count": 139,
   "metadata": {},
   "outputs": [
    {
     "data": {
      "text/plain": [
       "studio                 1\n",
       "domestic_gross_x       2\n",
       "foreign_gross        161\n",
       "year                   0\n",
       "release_date           0\n",
       "movie                  0\n",
       "production_budget      0\n",
       "domestic_gross_y       0\n",
       "worldwide_gross        0\n",
       "dtype: int64"
      ]
     },
     "execution_count": 139,
     "metadata": {},
     "output_type": "execute_result"
    }
   ],
   "source": [
    "#We check for missing values in the merged dataframe, represented by Nan(null values) and show the number of Nan values in the dataset\n",
    "new_movie_df.isna().sum()"
   ]
  },
  {
   "cell_type": "code",
   "execution_count": 140,
   "metadata": {},
   "outputs": [
    {
     "name": "stdout",
     "output_type": "stream",
     "text": [
      "Percentage of Null foreign_gross Values: 0.12910986367281477\n"
     ]
    }
   ],
   "source": [
    "#Check the percentage of missing values for 'foreign_gross' column since it has the highest number of issing values \n",
    "print('Percentage of Null foreign_gross Values:', len(new_movie_df[new_movie_df.foreign_gross.isna()])/ len(new_movie_df))"
   ]
  },
  {
   "cell_type": "code",
   "execution_count": 141,
   "metadata": {},
   "outputs": [
    {
     "data": {
      "image/png": "[encoded data removed]",
      "text/plain": [
       "<Figure size 432x288 with 2 Axes>"
      ]
     },
     "metadata": {
      "needs_background": "light"
     },
     "output_type": "display_data"
    }
   ],
   "source": [
    "#Visually represent the missing values with a heatmap\n",
    "sns.heatmap(new_movie_df.isnull(), cmap = 'viridis')\n",
    "plt.title('Missing values in Foreign Gross Column')\n",
    "plt.show()"
   ]
  },
  {
   "cell_type": "code",
   "execution_count": 142,
   "metadata": {},
   "outputs": [
    {
     "name": "stdout",
     "output_type": "stream",
     "text": [
      "Mean Value for foreign_gross column: 100945897.5896488\n",
      "Median Value for foreign_gross column: 38050000.0\n"
     ]
    }
   ],
   "source": [
    "#Convert 'foreign_gross' column to a numeric data type\n",
    "new_movie_df['foreign_gross'] = pd.to_numeric(new_movie_df['foreign_gross'], errors='coerce')\n",
    "\n",
    "#Calculate the mean and median of the foreign_gross column in 'new_movie_budget_df'\n",
    "\n",
    "foreign_gross_mean = new_movie_df['foreign_gross'].mean()\n",
    "foreign_gross_median = new_movie_df['foreign_gross'].median()\n",
    "\n",
    "\n",
    "print(\"Mean Value for foreign_gross column: {}\".format(foreign_gross_mean))\n",
    "print(\"Median Value for foreign_gross column: {}\".format(foreign_gross_median))"
   ]
  },
  {
   "cell_type": "code",
   "execution_count": 143,
   "metadata": {
    "scrolled": true
   },
   "outputs": [
    {
     "data": {
      "text/plain": [
       "<bound method Series.sum of 0       False\n",
       "1       False\n",
       "2       False\n",
       "3       False\n",
       "4       False\n",
       "        ...  \n",
       "1242     True\n",
       "1243     True\n",
       "1244    False\n",
       "1245     True\n",
       "1246     True\n",
       "Name: foreign_gross, Length: 1247, dtype: bool>"
      ]
     },
     "execution_count": 143,
     "metadata": {},
     "output_type": "execute_result"
    }
   ],
   "source": [
    "new_movie_df['foreign_gross'].isna().sum"
   ]
  },
  {
   "cell_type": "code",
   "execution_count": 144,
   "metadata": {},
   "outputs": [],
   "source": [
    "new_movie_df['production_budget'] =new_movie_df['production_budget'].replace('[\\$,]', '', regex=True).astype(float)\n",
    "new_movie_df['worldwide_gross'] =new_movie_df['worldwide_gross'].replace('[\\$,]', '', regex=True).astype(float)\n",
    "new_movie_df['domestic_gross_x'] =new_movie_df['domestic_gross_x'].replace('[\\$,]', '', regex=True).astype(float)\n",
    "new_movie_df['domestic_gross_y'] =new_movie_df['domestic_gross_y'].replace('[\\$,]', '', regex=True).astype(float)"
   ]
  },
  {
   "cell_type": "markdown",
   "metadata": {},
   "source": [
    "# Clean the merged data 'reviews_df'\n",
    "* This is a dataframe that consist of 'tn_df' and 'movieinfo_df') "
   ]
  },
  {
   "cell_type": "code",
   "execution_count": 155,
   "metadata": {
    "scrolled": true
   },
   "outputs": [
    {
     "data": {
      "text/html": [
       "<div>\n",
       "<style scoped>\n",
       "    .dataframe tbody tr th:only-of-type {\n",
       "        vertical-align: middle;\n",
       "    }\n",
       "\n",
       "    .dataframe tbody tr th {\n",
       "        vertical-align: top;\n",
       "    }\n",
       "\n",
       "    .dataframe thead th {\n",
       "        text-align: right;\n",
       "    }\n",
       "</style>\n",
       "<table border=\"1\" class=\"dataframe\">\n",
       "  <thead>\n",
       "    <tr style=\"text-align: right;\">\n",
       "      <th></th>\n",
       "      <th>id</th>\n",
       "      <th>release_date</th>\n",
       "      <th>movie</th>\n",
       "      <th>production_budget</th>\n",
       "      <th>domestic_gross</th>\n",
       "      <th>worldwide_gross</th>\n",
       "      <th>synopsis</th>\n",
       "      <th>rating</th>\n",
       "      <th>genre</th>\n",
       "      <th>director</th>\n",
       "      <th>writer</th>\n",
       "      <th>theater_date</th>\n",
       "      <th>dvd_date</th>\n",
       "      <th>currency</th>\n",
       "      <th>box_office</th>\n",
       "      <th>runtime</th>\n",
       "      <th>studio</th>\n",
       "    </tr>\n",
       "  </thead>\n",
       "  <tbody>\n",
       "    <tr>\n",
       "      <th>0</th>\n",
       "      <td>1</td>\n",
       "      <td>Dec 18, 2009</td>\n",
       "      <td>Avatar</td>\n",
       "      <td>$425,000,000</td>\n",
       "      <td>$760,507,625</td>\n",
       "      <td>$2,776,345,279</td>\n",
       "      <td>This gritty, fast-paced, and innovative police...</td>\n",
       "      <td>R</td>\n",
       "      <td>Action and Adventure|Classics|Drama</td>\n",
       "      <td>William Friedkin</td>\n",
       "      <td>Ernest Tidyman</td>\n",
       "      <td>Oct 9, 1971</td>\n",
       "      <td>Sep 25, 2001</td>\n",
       "      <td>NaN</td>\n",
       "      <td>NaN</td>\n",
       "      <td>104 minutes</td>\n",
       "      <td>NaN</td>\n",
       "    </tr>\n",
       "    <tr>\n",
       "      <th>1</th>\n",
       "      <td>1</td>\n",
       "      <td>May 29, 2009</td>\n",
       "      <td>Up</td>\n",
       "      <td>$175,000,000</td>\n",
       "      <td>$293,004,164</td>\n",
       "      <td>$731,463,377</td>\n",
       "      <td>This gritty, fast-paced, and innovative police...</td>\n",
       "      <td>R</td>\n",
       "      <td>Action and Adventure|Classics|Drama</td>\n",
       "      <td>William Friedkin</td>\n",
       "      <td>Ernest Tidyman</td>\n",
       "      <td>Oct 9, 1971</td>\n",
       "      <td>Sep 25, 2001</td>\n",
       "      <td>NaN</td>\n",
       "      <td>NaN</td>\n",
       "      <td>104 minutes</td>\n",
       "      <td>NaN</td>\n",
       "    </tr>\n",
       "    <tr>\n",
       "      <th>2</th>\n",
       "      <td>1</td>\n",
       "      <td>Mar 7, 2014</td>\n",
       "      <td>Mr. Peabody &amp; Sherman</td>\n",
       "      <td>$145,000,000</td>\n",
       "      <td>$111,506,430</td>\n",
       "      <td>$269,806,430</td>\n",
       "      <td>This gritty, fast-paced, and innovative police...</td>\n",
       "      <td>R</td>\n",
       "      <td>Action and Adventure|Classics|Drama</td>\n",
       "      <td>William Friedkin</td>\n",
       "      <td>Ernest Tidyman</td>\n",
       "      <td>Oct 9, 1971</td>\n",
       "      <td>Sep 25, 2001</td>\n",
       "      <td>NaN</td>\n",
       "      <td>NaN</td>\n",
       "      <td>104 minutes</td>\n",
       "      <td>NaN</td>\n",
       "    </tr>\n",
       "    <tr>\n",
       "      <th>3</th>\n",
       "      <td>1</td>\n",
       "      <td>Dec 17, 2010</td>\n",
       "      <td>How Do You Know?</td>\n",
       "      <td>$120,000,000</td>\n",
       "      <td>$30,212,620</td>\n",
       "      <td>$49,628,177</td>\n",
       "      <td>This gritty, fast-paced, and innovative police...</td>\n",
       "      <td>R</td>\n",
       "      <td>Action and Adventure|Classics|Drama</td>\n",
       "      <td>William Friedkin</td>\n",
       "      <td>Ernest Tidyman</td>\n",
       "      <td>Oct 9, 1971</td>\n",
       "      <td>Sep 25, 2001</td>\n",
       "      <td>NaN</td>\n",
       "      <td>NaN</td>\n",
       "      <td>104 minutes</td>\n",
       "      <td>NaN</td>\n",
       "    </tr>\n",
       "    <tr>\n",
       "      <th>4</th>\n",
       "      <td>1</td>\n",
       "      <td>Dec 11, 2015</td>\n",
       "      <td>In the Heart of the Sea</td>\n",
       "      <td>$100,000,000</td>\n",
       "      <td>$25,020,758</td>\n",
       "      <td>$89,693,309</td>\n",
       "      <td>This gritty, fast-paced, and innovative police...</td>\n",
       "      <td>R</td>\n",
       "      <td>Action and Adventure|Classics|Drama</td>\n",
       "      <td>William Friedkin</td>\n",
       "      <td>Ernest Tidyman</td>\n",
       "      <td>Oct 9, 1971</td>\n",
       "      <td>Sep 25, 2001</td>\n",
       "      <td>NaN</td>\n",
       "      <td>NaN</td>\n",
       "      <td>104 minutes</td>\n",
       "      <td>NaN</td>\n",
       "    </tr>\n",
       "    <tr>\n",
       "      <th>...</th>\n",
       "      <td>...</td>\n",
       "      <td>...</td>\n",
       "      <td>...</td>\n",
       "      <td>...</td>\n",
       "      <td>...</td>\n",
       "      <td>...</td>\n",
       "      <td>...</td>\n",
       "      <td>...</td>\n",
       "      <td>...</td>\n",
       "      <td>...</td>\n",
       "      <td>...</td>\n",
       "      <td>...</td>\n",
       "      <td>...</td>\n",
       "      <td>...</td>\n",
       "      <td>...</td>\n",
       "      <td>...</td>\n",
       "      <td>...</td>\n",
       "    </tr>\n",
       "    <tr>\n",
       "      <th>4677</th>\n",
       "      <td>100</td>\n",
       "      <td>Dec 31, 2013</td>\n",
       "      <td>Heli</td>\n",
       "      <td>$1,000,000</td>\n",
       "      <td>$0</td>\n",
       "      <td>$552,614</td>\n",
       "      <td>Four old college friends in their forties come...</td>\n",
       "      <td>NR</td>\n",
       "      <td>Comedy|Drama</td>\n",
       "      <td>Willem van de Sande Bakhuyzen</td>\n",
       "      <td>NaN</td>\n",
       "      <td>NaN</td>\n",
       "      <td>NaN</td>\n",
       "      <td>NaN</td>\n",
       "      <td>NaN</td>\n",
       "      <td>108 minutes</td>\n",
       "      <td>NaN</td>\n",
       "    </tr>\n",
       "    <tr>\n",
       "      <th>4678</th>\n",
       "      <td>100</td>\n",
       "      <td>Oct 11, 2013</td>\n",
       "      <td>Escape from Tomorrow</td>\n",
       "      <td>$650,000</td>\n",
       "      <td>$171,962</td>\n",
       "      <td>$171,962</td>\n",
       "      <td>Four old college friends in their forties come...</td>\n",
       "      <td>NR</td>\n",
       "      <td>Comedy|Drama</td>\n",
       "      <td>Willem van de Sande Bakhuyzen</td>\n",
       "      <td>NaN</td>\n",
       "      <td>NaN</td>\n",
       "      <td>NaN</td>\n",
       "      <td>NaN</td>\n",
       "      <td>NaN</td>\n",
       "      <td>108 minutes</td>\n",
       "      <td>NaN</td>\n",
       "    </tr>\n",
       "    <tr>\n",
       "      <th>4679</th>\n",
       "      <td>100</td>\n",
       "      <td>Jul 11, 2014</td>\n",
       "      <td>As It Is in Heaven</td>\n",
       "      <td>$450,000</td>\n",
       "      <td>$13,486</td>\n",
       "      <td>$13,486</td>\n",
       "      <td>Four old college friends in their forties come...</td>\n",
       "      <td>NR</td>\n",
       "      <td>Comedy|Drama</td>\n",
       "      <td>Willem van de Sande Bakhuyzen</td>\n",
       "      <td>NaN</td>\n",
       "      <td>NaN</td>\n",
       "      <td>NaN</td>\n",
       "      <td>NaN</td>\n",
       "      <td>NaN</td>\n",
       "      <td>108 minutes</td>\n",
       "      <td>NaN</td>\n",
       "    </tr>\n",
       "    <tr>\n",
       "      <th>4680</th>\n",
       "      <td>100</td>\n",
       "      <td>Dec 31, 2014</td>\n",
       "      <td>Horse Camp</td>\n",
       "      <td>$250,000</td>\n",
       "      <td>$0</td>\n",
       "      <td>$0</td>\n",
       "      <td>Four old college friends in their forties come...</td>\n",
       "      <td>NR</td>\n",
       "      <td>Comedy|Drama</td>\n",
       "      <td>Willem van de Sande Bakhuyzen</td>\n",
       "      <td>NaN</td>\n",
       "      <td>NaN</td>\n",
       "      <td>NaN</td>\n",
       "      <td>NaN</td>\n",
       "      <td>NaN</td>\n",
       "      <td>108 minutes</td>\n",
       "      <td>NaN</td>\n",
       "    </tr>\n",
       "    <tr>\n",
       "      <th>4681</th>\n",
       "      <td>100</td>\n",
       "      <td>Aug 30, 1972</td>\n",
       "      <td>The Last House on the Left</td>\n",
       "      <td>$87,000</td>\n",
       "      <td>$3,100,000</td>\n",
       "      <td>$3,100,000</td>\n",
       "      <td>Four old college friends in their forties come...</td>\n",
       "      <td>NR</td>\n",
       "      <td>Comedy|Drama</td>\n",
       "      <td>Willem van de Sande Bakhuyzen</td>\n",
       "      <td>NaN</td>\n",
       "      <td>NaN</td>\n",
       "      <td>NaN</td>\n",
       "      <td>NaN</td>\n",
       "      <td>NaN</td>\n",
       "      <td>108 minutes</td>\n",
       "      <td>NaN</td>\n",
       "    </tr>\n",
       "  </tbody>\n",
       "</table>\n",
       "<p>4682 rows × 17 columns</p>\n",
       "</div>"
      ],
      "text/plain": [
       "       id  release_date                       movie production_budget  \\\n",
       "0       1  Dec 18, 2009                      Avatar      $425,000,000   \n",
       "1       1  May 29, 2009                          Up      $175,000,000   \n",
       "2       1   Mar 7, 2014       Mr. Peabody & Sherman      $145,000,000   \n",
       "3       1  Dec 17, 2010            How Do You Know?      $120,000,000   \n",
       "4       1  Dec 11, 2015     In the Heart of the Sea      $100,000,000   \n",
       "...   ...           ...                         ...               ...   \n",
       "4677  100  Dec 31, 2013                        Heli        $1,000,000   \n",
       "4678  100  Oct 11, 2013        Escape from Tomorrow          $650,000   \n",
       "4679  100  Jul 11, 2014          As It Is in Heaven          $450,000   \n",
       "4680  100  Dec 31, 2014                  Horse Camp          $250,000   \n",
       "4681  100  Aug 30, 1972  The Last House on the Left           $87,000   \n",
       "\n",
       "     domestic_gross worldwide_gross  \\\n",
       "0      $760,507,625  $2,776,345,279   \n",
       "1      $293,004,164    $731,463,377   \n",
       "2      $111,506,430    $269,806,430   \n",
       "3       $30,212,620     $49,628,177   \n",
       "4       $25,020,758     $89,693,309   \n",
       "...             ...             ...   \n",
       "4677             $0        $552,614   \n",
       "4678       $171,962        $171,962   \n",
       "4679        $13,486         $13,486   \n",
       "4680             $0              $0   \n",
       "4681     $3,100,000      $3,100,000   \n",
       "\n",
       "                                               synopsis rating  \\\n",
       "0     This gritty, fast-paced, and innovative police...      R   \n",
       "1     This gritty, fast-paced, and innovative police...      R   \n",
       "2     This gritty, fast-paced, and innovative police...      R   \n",
       "3     This gritty, fast-paced, and innovative police...      R   \n",
       "4     This gritty, fast-paced, and innovative police...      R   \n",
       "...                                                 ...    ...   \n",
       "4677  Four old college friends in their forties come...     NR   \n",
       "4678  Four old college friends in their forties come...     NR   \n",
       "4679  Four old college friends in their forties come...     NR   \n",
       "4680  Four old college friends in their forties come...     NR   \n",
       "4681  Four old college friends in their forties come...     NR   \n",
       "\n",
       "                                    genre                       director  \\\n",
       "0     Action and Adventure|Classics|Drama               William Friedkin   \n",
       "1     Action and Adventure|Classics|Drama               William Friedkin   \n",
       "2     Action and Adventure|Classics|Drama               William Friedkin   \n",
       "3     Action and Adventure|Classics|Drama               William Friedkin   \n",
       "4     Action and Adventure|Classics|Drama               William Friedkin   \n",
       "...                                   ...                            ...   \n",
       "4677                         Comedy|Drama  Willem van de Sande Bakhuyzen   \n",
       "4678                         Comedy|Drama  Willem van de Sande Bakhuyzen   \n",
       "4679                         Comedy|Drama  Willem van de Sande Bakhuyzen   \n",
       "4680                         Comedy|Drama  Willem van de Sande Bakhuyzen   \n",
       "4681                         Comedy|Drama  Willem van de Sande Bakhuyzen   \n",
       "\n",
       "              writer theater_date      dvd_date currency box_office  \\\n",
       "0     Ernest Tidyman  Oct 9, 1971  Sep 25, 2001      NaN        NaN   \n",
       "1     Ernest Tidyman  Oct 9, 1971  Sep 25, 2001      NaN        NaN   \n",
       "2     Ernest Tidyman  Oct 9, 1971  Sep 25, 2001      NaN        NaN   \n",
       "3     Ernest Tidyman  Oct 9, 1971  Sep 25, 2001      NaN        NaN   \n",
       "4     Ernest Tidyman  Oct 9, 1971  Sep 25, 2001      NaN        NaN   \n",
       "...              ...          ...           ...      ...        ...   \n",
       "4677             NaN          NaN           NaN      NaN        NaN   \n",
       "4678             NaN          NaN           NaN      NaN        NaN   \n",
       "4679             NaN          NaN           NaN      NaN        NaN   \n",
       "4680             NaN          NaN           NaN      NaN        NaN   \n",
       "4681             NaN          NaN           NaN      NaN        NaN   \n",
       "\n",
       "          runtime studio  \n",
       "0     104 minutes    NaN  \n",
       "1     104 minutes    NaN  \n",
       "2     104 minutes    NaN  \n",
       "3     104 minutes    NaN  \n",
       "4     104 minutes    NaN  \n",
       "...           ...    ...  \n",
       "4677  108 minutes    NaN  \n",
       "4678  108 minutes    NaN  \n",
       "4679  108 minutes    NaN  \n",
       "4680  108 minutes    NaN  \n",
       "4681  108 minutes    NaN  \n",
       "\n",
       "[4682 rows x 17 columns]"
      ]
     },
     "execution_count": 155,
     "metadata": {},
     "output_type": "execute_result"
    }
   ],
   "source": [
    "reviews_df = pd.merge(tn_df, movieinfo_df, how = \"inner\", left_on=\"id\", right_on =\"id\")"
   ]
  },
  {
   "cell_type": "code",
   "execution_count": 157,
   "metadata": {
    "scrolled": true
   },
   "outputs": [
    {
     "data": {
      "text/html": [
       "<div>\n",
       "<style scoped>\n",
       "    .dataframe tbody tr th:only-of-type {\n",
       "        vertical-align: middle;\n",
       "    }\n",
       "\n",
       "    .dataframe tbody tr th {\n",
       "        vertical-align: top;\n",
       "    }\n",
       "\n",
       "    .dataframe thead th {\n",
       "        text-align: right;\n",
       "    }\n",
       "</style>\n",
       "<table border=\"1\" class=\"dataframe\">\n",
       "  <thead>\n",
       "    <tr style=\"text-align: right;\">\n",
       "      <th></th>\n",
       "      <th>id</th>\n",
       "      <th>release_date</th>\n",
       "      <th>movie</th>\n",
       "      <th>production_budget</th>\n",
       "      <th>domestic_gross</th>\n",
       "      <th>worldwide_gross</th>\n",
       "      <th>synopsis</th>\n",
       "      <th>rating</th>\n",
       "      <th>genre</th>\n",
       "      <th>director</th>\n",
       "      <th>writer</th>\n",
       "      <th>theater_date</th>\n",
       "      <th>dvd_date</th>\n",
       "      <th>currency</th>\n",
       "      <th>box_office</th>\n",
       "      <th>runtime</th>\n",
       "      <th>studio</th>\n",
       "    </tr>\n",
       "  </thead>\n",
       "  <tbody>\n",
       "    <tr>\n",
       "      <th>58</th>\n",
       "      <td>3</td>\n",
       "      <td>Jun 7, 2019</td>\n",
       "      <td>Dark Phoenix</td>\n",
       "      <td>$350,000,000</td>\n",
       "      <td>$42,762,350</td>\n",
       "      <td>$149,762,350</td>\n",
       "      <td>New York City, not-too-distant-future: Eric Pa...</td>\n",
       "      <td>R</td>\n",
       "      <td>Drama|Science Fiction and Fantasy</td>\n",
       "      <td>David Cronenberg</td>\n",
       "      <td>David Cronenberg|Don DeLillo</td>\n",
       "      <td>Aug 17, 2012</td>\n",
       "      <td>Jan 1, 2013</td>\n",
       "      <td>$</td>\n",
       "      <td>600,000</td>\n",
       "      <td>108 minutes</td>\n",
       "      <td>Entertainment One</td>\n",
       "    </tr>\n",
       "    <tr>\n",
       "      <th>59</th>\n",
       "      <td>3</td>\n",
       "      <td>Nov 21, 2018</td>\n",
       "      <td>Ralph Breaks The Internet</td>\n",
       "      <td>$175,000,000</td>\n",
       "      <td>$201,091,711</td>\n",
       "      <td>$524,283,695</td>\n",
       "      <td>New York City, not-too-distant-future: Eric Pa...</td>\n",
       "      <td>R</td>\n",
       "      <td>Drama|Science Fiction and Fantasy</td>\n",
       "      <td>David Cronenberg</td>\n",
       "      <td>David Cronenberg|Don DeLillo</td>\n",
       "      <td>Aug 17, 2012</td>\n",
       "      <td>Jan 1, 2013</td>\n",
       "      <td>$</td>\n",
       "      <td>600,000</td>\n",
       "      <td>108 minutes</td>\n",
       "      <td>Entertainment One</td>\n",
       "    </tr>\n",
       "    <tr>\n",
       "      <th>60</th>\n",
       "      <td>3</td>\n",
       "      <td>Apr 8, 2005</td>\n",
       "      <td>Sahara</td>\n",
       "      <td>$145,000,000</td>\n",
       "      <td>$68,671,925</td>\n",
       "      <td>$121,671,925</td>\n",
       "      <td>New York City, not-too-distant-future: Eric Pa...</td>\n",
       "      <td>R</td>\n",
       "      <td>Drama|Science Fiction and Fantasy</td>\n",
       "      <td>David Cronenberg</td>\n",
       "      <td>David Cronenberg|Don DeLillo</td>\n",
       "      <td>Aug 17, 2012</td>\n",
       "      <td>Jan 1, 2013</td>\n",
       "      <td>$</td>\n",
       "      <td>600,000</td>\n",
       "      <td>108 minutes</td>\n",
       "      <td>Entertainment One</td>\n",
       "    </tr>\n",
       "    <tr>\n",
       "      <th>61</th>\n",
       "      <td>3</td>\n",
       "      <td>Oct 5, 2018</td>\n",
       "      <td>Venom</td>\n",
       "      <td>$116,000,000</td>\n",
       "      <td>$213,511,408</td>\n",
       "      <td>$853,628,605</td>\n",
       "      <td>New York City, not-too-distant-future: Eric Pa...</td>\n",
       "      <td>R</td>\n",
       "      <td>Drama|Science Fiction and Fantasy</td>\n",
       "      <td>David Cronenberg</td>\n",
       "      <td>David Cronenberg|Don DeLillo</td>\n",
       "      <td>Aug 17, 2012</td>\n",
       "      <td>Jan 1, 2013</td>\n",
       "      <td>$</td>\n",
       "      <td>600,000</td>\n",
       "      <td>108 minutes</td>\n",
       "      <td>Entertainment One</td>\n",
       "    </tr>\n",
       "    <tr>\n",
       "      <th>62</th>\n",
       "      <td>3</td>\n",
       "      <td>Feb 18, 2005</td>\n",
       "      <td>Son of the Mask</td>\n",
       "      <td>$100,000,000</td>\n",
       "      <td>$17,018,422</td>\n",
       "      <td>$59,918,422</td>\n",
       "      <td>New York City, not-too-distant-future: Eric Pa...</td>\n",
       "      <td>R</td>\n",
       "      <td>Drama|Science Fiction and Fantasy</td>\n",
       "      <td>David Cronenberg</td>\n",
       "      <td>David Cronenberg|Don DeLillo</td>\n",
       "      <td>Aug 17, 2012</td>\n",
       "      <td>Jan 1, 2013</td>\n",
       "      <td>$</td>\n",
       "      <td>600,000</td>\n",
       "      <td>108 minutes</td>\n",
       "      <td>Entertainment One</td>\n",
       "    </tr>\n",
       "  </tbody>\n",
       "</table>\n",
       "</div>"
      ],
      "text/plain": [
       "    id  release_date                      movie production_budget  \\\n",
       "58   3   Jun 7, 2019               Dark Phoenix      $350,000,000   \n",
       "59   3  Nov 21, 2018  Ralph Breaks The Internet      $175,000,000   \n",
       "60   3   Apr 8, 2005                     Sahara      $145,000,000   \n",
       "61   3   Oct 5, 2018                      Venom      $116,000,000   \n",
       "62   3  Feb 18, 2005            Son of the Mask      $100,000,000   \n",
       "\n",
       "   domestic_gross worldwide_gross  \\\n",
       "58    $42,762,350    $149,762,350   \n",
       "59   $201,091,711    $524,283,695   \n",
       "60    $68,671,925    $121,671,925   \n",
       "61   $213,511,408    $853,628,605   \n",
       "62    $17,018,422     $59,918,422   \n",
       "\n",
       "                                             synopsis rating  \\\n",
       "58  New York City, not-too-distant-future: Eric Pa...      R   \n",
       "59  New York City, not-too-distant-future: Eric Pa...      R   \n",
       "60  New York City, not-too-distant-future: Eric Pa...      R   \n",
       "61  New York City, not-too-distant-future: Eric Pa...      R   \n",
       "62  New York City, not-too-distant-future: Eric Pa...      R   \n",
       "\n",
       "                                genre          director  \\\n",
       "58  Drama|Science Fiction and Fantasy  David Cronenberg   \n",
       "59  Drama|Science Fiction and Fantasy  David Cronenberg   \n",
       "60  Drama|Science Fiction and Fantasy  David Cronenberg   \n",
       "61  Drama|Science Fiction and Fantasy  David Cronenberg   \n",
       "62  Drama|Science Fiction and Fantasy  David Cronenberg   \n",
       "\n",
       "                          writer  theater_date     dvd_date currency  \\\n",
       "58  David Cronenberg|Don DeLillo  Aug 17, 2012  Jan 1, 2013        $   \n",
       "59  David Cronenberg|Don DeLillo  Aug 17, 2012  Jan 1, 2013        $   \n",
       "60  David Cronenberg|Don DeLillo  Aug 17, 2012  Jan 1, 2013        $   \n",
       "61  David Cronenberg|Don DeLillo  Aug 17, 2012  Jan 1, 2013        $   \n",
       "62  David Cronenberg|Don DeLillo  Aug 17, 2012  Jan 1, 2013        $   \n",
       "\n",
       "   box_office      runtime             studio  \n",
       "58    600,000  108 minutes  Entertainment One  \n",
       "59    600,000  108 minutes  Entertainment One  \n",
       "60    600,000  108 minutes  Entertainment One  \n",
       "61    600,000  108 minutes  Entertainment One  \n",
       "62    600,000  108 minutes  Entertainment One  "
      ]
     },
     "execution_count": 157,
     "metadata": {},
     "output_type": "execute_result"
    }
   ],
   "source": [
    "#Drop the columns with missing values\n",
    "reviews_df = reviews_df.dropna()\n",
    "reviews_df.head()"
   ]
  },
  {
   "cell_type": "markdown",
   "metadata": {},
   "source": [
    "# Data Analysis\n"
   ]
  },
  {
   "cell_type": "markdown",
   "metadata": {},
   "source": [
    "#  i) What was the Highest profit?\n",
    "* The data for analysis used in this case is the new merged data\n",
    "* The output in this case will be based on the worldwide and domestic gross to give the profits made\n",
    "* Also we need to find the movie that made the highest profit\n",
    "* Plot showing the profit made"
   ]
  },
  {
   "cell_type": "code",
   "execution_count": 106,
   "metadata": {},
   "outputs": [
    {
     "name": "stdout",
     "output_type": "stream",
     "text": [
      "The highest profit made is: 1369318718.0\n"
     ]
    }
   ],
   "source": [
    "#Created a column called profit_needed \n",
    "new_movie_df[\"profit_made\"] = (new_movie_df[\"worldwide_gross\"] - new_movie_df[\"domestic_gross_y\"])\n",
    "\n",
    "\n",
    "#Find the highest profit\n",
    "highest_profit = new_movie_df[\"profit_made\"].max()\n",
    "\n",
    "print(\"The highest profit made is:\" , highest_profit)"
   ]
  },
  {
   "cell_type": "code",
   "execution_count": 107,
   "metadata": {},
   "outputs": [
    {
     "name": "stdout",
     "output_type": "stream",
     "text": [
      "The highest percentage profit made is: 18892.064\n"
     ]
    }
   ],
   "source": [
    "#Calculating the percentage profit\n",
    "new_movie_df[\"percentage_profit\"] = (new_movie_df[\"profit_made\"] / new_movie_df[\"production_budget\"]) * 100\n",
    "\n",
    "# Finding the highest percentage\n",
    "highest_percentage_profit = new_movie_df[\"percentage_profit\"].max()\n",
    "\n",
    "print(\"The highest percentage profit made is:\", highest_percentage_profit)"
   ]
  },
  {
   "cell_type": "code",
   "execution_count": 108,
   "metadata": {},
   "outputs": [
    {
     "name": "stdout",
     "output_type": "stream",
     "text": [
      "The movie with the highest profit made is Avengers: Infinity War\n"
     ]
    }
   ],
   "source": [
    "#Find the movies that made the highest profit \n",
    "profitable_movies = new_movie_df[new_movie_df[\"profit_made\"] >0][\"movie\"].tolist()\n",
    "\n",
    "#To find the movie that made the highest profit\n",
    "highest_profit = new_movie_df['profit_made'].idxmax()\n",
    "highest_profit_movie = new_movie_df.loc[highest_profit]['movie']\n",
    "\n",
    "print(\"The movie with the highest profit made is\", highest_profit_movie)"
   ]
  },
  {
   "cell_type": "code",
   "execution_count": 109,
   "metadata": {},
   "outputs": [
    {
     "data": {
      "image/png": "[encoded data removed]",
      "text/plain": [
       "<Figure size 2880x1440 with 1 Axes>"
      ]
     },
     "metadata": {
      "needs_background": "light"
     },
     "output_type": "display_data"
    }
   ],
   "source": [
    "#Plot a histogram of the profits made \n",
    "fg, ax = plt.subplots(figsize=(40, 20))\n",
    "x = new_movie_df[\"profit_made\"]\n",
    "y = new_movie_df[\"movie\"]\n",
    "\n",
    "plt.hist(new_movie_df['profit_made'], bins=100)\n",
    "plt.xlabel('Profit Made')\n",
    "plt.ylabel('Frequency')\n",
    "plt.title('Distribution of Movie Profit Made')\n",
    "plt.show()"
   ]
  },
  {
   "cell_type": "markdown",
   "metadata": {},
   "source": [
    "#  ii) What's the company's focal point\n",
    "* This will depend on the foreign_gross and domestic_gross_y(the sales made)\n",
    "* Plot the domestic sales and foreign sales.\n"
   ]
  },
  {
   "cell_type": "code",
   "execution_count": 112,
   "metadata": {},
   "outputs": [
    {
     "name": "stdout",
     "output_type": "stream",
     "text": [
      "The average domestic sales: 60623530.9124498 \n",
      "The average foreign sales: 152125895.94947875\n",
      "The Difference: -91502365.03702894\n"
     ]
    }
   ],
   "source": [
    "print('The average domestic sales: {} \\nThe average foreign sales: {}'.format(\n",
    "                                                                       new_movie_df[\"domestic_gross_x\"].mean(),\n",
    "                                                                       new_movie_df[\"worldwide_gross\"].mean()))\n",
    "print('The Difference: {}'.format(\n",
    "                            (new_movie_df[\"domestic_gross_x\"].mean()-new_movie_df[\"worldwide_gross\"]).mean()))"
   ]
  },
  {
   "cell_type": "code",
   "execution_count": 115,
   "metadata": {},
   "outputs": [
    {
     "data": {
      "image/png": "[encoded data removed]",
      "text/plain": [
       "<Figure size 3600x1440 with 1 Axes>"
      ]
     },
     "metadata": {
      "needs_background": "light"
     },
     "output_type": "display_data"
    }
   ],
   "source": [
    "#Set to plot\n",
    "fg, ax = plt.subplots(figsize=(50, 20))\n",
    "\n",
    "# Define the domestic and foreign sales\n",
    "plt.hist(new_movie_df['domestic_gross_x'], bins=20, alpha=0.5, label='Domestic Sales')\n",
    "plt.hist(new_movie_df['worldwide_gross'], bins=20, alpha=0.5, label='Foreign Sales')\n",
    "\n",
    "#Label the axes\n",
    "plt.xlabel('Gross Sales')\n",
    "plt.ylabel('Number of Movies')\n",
    "plt.title('Distribution of Domestic and Foreign Sales', fontsize=37)\n",
    "plt.legend()\n",
    "plt.show()"
   ]
  },
  {
   "cell_type": "markdown",
   "metadata": {},
   "source": [
    "#  Which movies brought in the highest income.\n",
    "* In this case we want to find the first 20 movies that brought the highest income\n",
    "* The output is based on 'domestic_gross and worldwide_gross\n",
    "* Plot showing the income and movies"
   ]
  },
  {
   "cell_type": "code",
   "execution_count": 116,
   "metadata": {},
   "outputs": [
    {
     "name": "stdout",
     "output_type": "stream",
     "text": [
      "Top 20 Movies with Highest Income\n",
      "1154            Avengers: Infinity War\n",
      "764                     Jurassic World\n",
      "1155                     Black Panther\n",
      "765                          Furious 7\n",
      "766            Avengers: Age of Ultron\n",
      "1157                     Incredibles 2\n",
      "1156    Jurassic World: Fallen Kingdom\n",
      "496                             Frozen\n",
      "497                         Iron Man 3\n",
      "911       Rogue One: A Star Wars Story\n",
      "Name: movie, dtype: object\n"
     ]
    }
   ],
   "source": [
    "# Select the necessary columns\n",
    "movie_income = new_movie_df[[\"movie\", \"domestic_gross_y\", \"worldwide_gross\"]]\n",
    "\n",
    "# Calculate the total income for each movie\n",
    "movie_income.loc[:,\"total_income\"] = movie_income[\"domestic_gross_y\"] + movie_income[\"worldwide_gross\"]\n",
    "\n",
    "# Sort the movies by total income in descending order\n",
    "movie_income = movie_income.sort_values(by=\"total_income\", ascending=False)\n",
    "\n",
    "# Get the top 10 highest income movies\n",
    "top20_movies = movie_income.head(10)\n",
    "\n",
    "#Print the list of High Income movies\n",
    "print(\"Top 20 Movies with Highest Income\")\n",
    "\n",
    "print(top20_movies[\"movie\"])"
   ]
  },
  {
   "cell_type": "code",
   "execution_count": 117,
   "metadata": {},
   "outputs": [
    {
     "data": {
      "image/png": "[encoded data removed]",
      "text/plain": [
       "<Figure size 720x576 with 1 Axes>"
      ]
     },
     "metadata": {
      "needs_background": "light"
     },
     "output_type": "display_data"
    }
   ],
   "source": [
    "# Plot the bar chart\n",
    "fig, ax = plt.subplots(figsize=(10, 8))\n",
    "ax.barh(top20_movies[\"movie\"], top20_movies[\"total_income\"])\n",
    "ax.set_xlabel(\"Total Income\")\n",
    "ax.set_ylabel(\"Movies\")\n",
    "ax.set_title(\"Top 20 Movies with Highest Income\")\n",
    "\n",
    "plt.show()"
   ]
  },
  {
   "cell_type": "markdown",
   "metadata": {},
   "source": [
    "# Finding the top studios and how much income they generate\n",
    "* We use 'new movie_df' which is a merged dataframe of 'bom.movies and 'tn.movies\n",
    "*Plot showing the information"
   ]
  },
  {
   "cell_type": "code",
   "execution_count": 159,
   "metadata": {},
   "outputs": [
    {
     "data": {
      "text/html": [
       "<div>\n",
       "<style scoped>\n",
       "    .dataframe tbody tr th:only-of-type {\n",
       "        vertical-align: middle;\n",
       "    }\n",
       "\n",
       "    .dataframe tbody tr th {\n",
       "        vertical-align: top;\n",
       "    }\n",
       "\n",
       "    .dataframe thead th {\n",
       "        text-align: right;\n",
       "    }\n",
       "</style>\n",
       "<table border=\"1\" class=\"dataframe\">\n",
       "  <thead>\n",
       "    <tr style=\"text-align: right;\">\n",
       "      <th></th>\n",
       "      <th>studio</th>\n",
       "      <th>domestic_gross_y</th>\n",
       "      <th>worldwide_gross</th>\n",
       "      <th>total_gross</th>\n",
       "    </tr>\n",
       "  </thead>\n",
       "  <tbody>\n",
       "    <tr>\n",
       "      <th>15</th>\n",
       "      <td>BV</td>\n",
       "      <td>1.292614e+10</td>\n",
       "      <td>3.328602e+10</td>\n",
       "      <td>4.621216e+10</td>\n",
       "    </tr>\n",
       "    <tr>\n",
       "      <th>90</th>\n",
       "      <td>Uni.</td>\n",
       "      <td>1.070684e+10</td>\n",
       "      <td>2.732929e+10</td>\n",
       "      <td>3.803613e+10</td>\n",
       "    </tr>\n",
       "    <tr>\n",
       "      <th>32</th>\n",
       "      <td>Fox</td>\n",
       "      <td>9.410234e+09</td>\n",
       "      <td>2.679581e+10</td>\n",
       "      <td>3.620605e+10</td>\n",
       "    </tr>\n",
       "    <tr>\n",
       "      <th>94</th>\n",
       "      <td>WB</td>\n",
       "      <td>9.130528e+09</td>\n",
       "      <td>2.219381e+10</td>\n",
       "      <td>3.132434e+10</td>\n",
       "    </tr>\n",
       "    <tr>\n",
       "      <th>82</th>\n",
       "      <td>Sony</td>\n",
       "      <td>7.059959e+09</td>\n",
       "      <td>1.760181e+10</td>\n",
       "      <td>2.466177e+10</td>\n",
       "    </tr>\n",
       "    <tr>\n",
       "      <th>69</th>\n",
       "      <td>Par.</td>\n",
       "      <td>6.007203e+09</td>\n",
       "      <td>1.443821e+10</td>\n",
       "      <td>2.044541e+10</td>\n",
       "    </tr>\n",
       "    <tr>\n",
       "      <th>95</th>\n",
       "      <td>WB (NL)</td>\n",
       "      <td>3.417630e+09</td>\n",
       "      <td>8.540864e+09</td>\n",
       "      <td>1.195849e+10</td>\n",
       "    </tr>\n",
       "    <tr>\n",
       "      <th>48</th>\n",
       "      <td>LGF</td>\n",
       "      <td>3.332465e+09</td>\n",
       "      <td>6.983389e+09</td>\n",
       "      <td>1.031585e+10</td>\n",
       "    </tr>\n",
       "    <tr>\n",
       "      <th>64</th>\n",
       "      <td>P/DW</td>\n",
       "      <td>1.682915e+09</td>\n",
       "      <td>5.078028e+09</td>\n",
       "      <td>6.760942e+09</td>\n",
       "    </tr>\n",
       "    <tr>\n",
       "      <th>47</th>\n",
       "      <td>LG/S</td>\n",
       "      <td>1.499805e+09</td>\n",
       "      <td>3.815925e+09</td>\n",
       "      <td>5.315730e+09</td>\n",
       "    </tr>\n",
       "  </tbody>\n",
       "</table>\n",
       "</div>"
      ],
      "text/plain": [
       "     studio  domestic_gross_y  worldwide_gross   total_gross\n",
       "15       BV      1.292614e+10     3.328602e+10  4.621216e+10\n",
       "90     Uni.      1.070684e+10     2.732929e+10  3.803613e+10\n",
       "32      Fox      9.410234e+09     2.679581e+10  3.620605e+10\n",
       "94       WB      9.130528e+09     2.219381e+10  3.132434e+10\n",
       "82     Sony      7.059959e+09     1.760181e+10  2.466177e+10\n",
       "69     Par.      6.007203e+09     1.443821e+10  2.044541e+10\n",
       "95  WB (NL)      3.417630e+09     8.540864e+09  1.195849e+10\n",
       "48      LGF      3.332465e+09     6.983389e+09  1.031585e+10\n",
       "64     P/DW      1.682915e+09     5.078028e+09  6.760942e+09\n",
       "47     LG/S      1.499805e+09     3.815925e+09  5.315730e+09"
      ]
     },
     "execution_count": 159,
     "metadata": {},
     "output_type": "execute_result"
    }
   ],
   "source": [
    "# Group the data by genre and calculates the sum of the domestic and worldwide gross\n",
    "studio_income =new_movie_df.groupby('studio')[['domestic_gross_y', 'worldwide_gross']].sum().reset_index()\n",
    "\n",
    "#Creating a new column 'total_gross' summing up the two columns\n",
    "studio_income['total_gross'] = studio_income['domestic_gross_y'] + studio_income['worldwide_gross']\n",
    "\n",
    "#Sort the data frame by the total gross in descending order and have the genres with the highest income appear at the top\n",
    "studio_income = studio_income.sort_values('total_gross', ascending=False)\n",
    "\n",
    "studio_income.head(10)"
   ]
  },
  {
   "cell_type": "markdown",
   "metadata": {},
   "source": [
    "# The top studios include:\n",
    "* BV\n",
    "* Uni.\n",
    "* Fox\n",
    "* WB\n",
    "* Sony\n",
    "* Par\n",
    "* LGF\n",
    "* P/DW\n",
    "* LG/S"
   ]
  },
  {
   "cell_type": "markdown",
   "metadata": {},
   "source": [
    "The studios enlisted above makes the highest total gross and Microsoft can indeed invest in these studios from movies produced or owned by these studios"
   ]
  },
  {
   "cell_type": "code",
   "execution_count": 158,
   "metadata": {},
   "outputs": [
    {
     "data": {
      "image/png": "[encoded data removed]",
      "text/plain": [
       "<Figure size 432x288 with 1 Axes>"
      ]
     },
     "metadata": {
      "needs_background": "light"
     },
     "output_type": "display_data"
    }
   ],
   "source": [
    "# select the top 10 studios by total gross income\n",
    "top_10_studios = studio_income.head(10)\n",
    "\n",
    "# plot a bar graph of the total gross income for each studio\n",
    "top_10_studios.plot(x='studio', y='total_gross', kind='bar', legend=None)\n",
    "\n",
    "# set the plot title and axis labels\n",
    "plt.title('Top 10 Studios by Total Gross Income')\n",
    "plt.xlabel('Studio')\n",
    "plt.ylabel('Total Gross Income (in billions)')\n",
    "\n",
    "# show the plot\n",
    "plt.show()"
   ]
  },
  {
   "cell_type": "markdown",
   "metadata": {},
   "source": [
    "# The Genres that brought the highest income\n",
    "* To find this we merge the 'tn_df' and movieinfo_df\n",
    "* The output will be the income based on the domestic and worldwide gross\n",
    "* Plot showing the profitable genres\n"
   ]
  },
  {
   "cell_type": "code",
   "execution_count": 40,
   "metadata": {},
   "outputs": [],
   "source": [
    "reviews_df = pd.merge(tn_df, movieinfo_df, how = \"inner\", left_on=\"id\", right_on =\"id\")"
   ]
  },
  {
   "cell_type": "code",
   "execution_count": 41,
   "metadata": {},
   "outputs": [
    {
     "data": {
      "text/html": [
       "<div>\n",
       "<style scoped>\n",
       "    .dataframe tbody tr th:only-of-type {\n",
       "        vertical-align: middle;\n",
       "    }\n",
       "\n",
       "    .dataframe tbody tr th {\n",
       "        vertical-align: top;\n",
       "    }\n",
       "\n",
       "    .dataframe thead th {\n",
       "        text-align: right;\n",
       "    }\n",
       "</style>\n",
       "<table border=\"1\" class=\"dataframe\">\n",
       "  <thead>\n",
       "    <tr style=\"text-align: right;\">\n",
       "      <th></th>\n",
       "      <th>genre</th>\n",
       "      <th>domestic_gross</th>\n",
       "      <th>worldwide_gross</th>\n",
       "      <th>total_gross</th>\n",
       "    </tr>\n",
       "  </thead>\n",
       "  <tbody>\n",
       "    <tr>\n",
       "      <th>41</th>\n",
       "      <td>Drama|Mystery and Suspense</td>\n",
       "      <td>$936,662,225$150,201,498$305,411,224$310,676,7...</td>\n",
       "      <td>$2,053,311,220$302,469,017$634,954,103$656,695...</td>\n",
       "      <td>$936,662,225$150,201,498$305,411,224$310,676,7...</td>\n",
       "    </tr>\n",
       "    <tr>\n",
       "      <th>1</th>\n",
       "      <td>Action and Adventure|Art House and Internation...</td>\n",
       "      <td>$92,054,159$133,501,348$54,647,948$89,296,573$...</td>\n",
       "      <td>$259,357,408$397,501,348$240,759,682$169,296,5...</td>\n",
       "      <td>$92,054,159$133,501,348$54,647,948$89,296,573$...</td>\n",
       "    </tr>\n",
       "    <tr>\n",
       "      <th>37</th>\n",
       "      <td>Drama</td>\n",
       "      <td>$89,302,115$417,719,760$122,523,060$42,779,261...</td>\n",
       "      <td>$260,002,115$1,305,772,799$375,740,705$232,017...</td>\n",
       "      <td>$89,302,115$417,719,760$122,523,060$42,779,261...</td>\n",
       "    </tr>\n",
       "    <tr>\n",
       "      <th>31</th>\n",
       "      <td>Comedy|Kids and Family|Romance</td>\n",
       "      <td>$80,101,125$206,445,654$217,536,138$203,464,10...</td>\n",
       "      <td>$409,953,905$626,549,695$767,820,459$515,419,8...</td>\n",
       "      <td>$80,101,125$206,445,654$217,536,138$203,464,10...</td>\n",
       "    </tr>\n",
       "    <tr>\n",
       "      <th>2</th>\n",
       "      <td>Action and Adventure|Classics|Drama</td>\n",
       "      <td>$760,507,625$293,004,164$111,506,430$30,212,62...</td>\n",
       "      <td>$2,776,345,279$731,463,377$269,806,430$49,628,...</td>\n",
       "      <td>$760,507,625$293,004,164$111,506,430$30,212,62...</td>\n",
       "    </tr>\n",
       "  </tbody>\n",
       "</table>\n",
       "</div>"
      ],
      "text/plain": [
       "                                                genre  \\\n",
       "41                         Drama|Mystery and Suspense   \n",
       "1   Action and Adventure|Art House and Internation...   \n",
       "37                                              Drama   \n",
       "31                     Comedy|Kids and Family|Romance   \n",
       "2                 Action and Adventure|Classics|Drama   \n",
       "\n",
       "                                       domestic_gross  \\\n",
       "41  $936,662,225$150,201,498$305,411,224$310,676,7...   \n",
       "1   $92,054,159$133,501,348$54,647,948$89,296,573$...   \n",
       "37  $89,302,115$417,719,760$122,523,060$42,779,261...   \n",
       "31  $80,101,125$206,445,654$217,536,138$203,464,10...   \n",
       "2   $760,507,625$293,004,164$111,506,430$30,212,62...   \n",
       "\n",
       "                                      worldwide_gross  \\\n",
       "41  $2,053,311,220$302,469,017$634,954,103$656,695...   \n",
       "1   $259,357,408$397,501,348$240,759,682$169,296,5...   \n",
       "37  $260,002,115$1,305,772,799$375,740,705$232,017...   \n",
       "31  $409,953,905$626,549,695$767,820,459$515,419,8...   \n",
       "2   $2,776,345,279$731,463,377$269,806,430$49,628,...   \n",
       "\n",
       "                                          total_gross  \n",
       "41  $936,662,225$150,201,498$305,411,224$310,676,7...  \n",
       "1   $92,054,159$133,501,348$54,647,948$89,296,573$...  \n",
       "37  $89,302,115$417,719,760$122,523,060$42,779,261...  \n",
       "31  $80,101,125$206,445,654$217,536,138$203,464,10...  \n",
       "2   $760,507,625$293,004,164$111,506,430$30,212,62...  "
      ]
     },
     "execution_count": 41,
     "metadata": {},
     "output_type": "execute_result"
    }
   ],
   "source": [
    "# Group the data by genre and calculates the sum of the domestic and worldwide gross\n",
    "genre_income = reviews_df.groupby('genre')[['domestic_gross', 'worldwide_gross']].sum().reset_index()\n",
    "\n",
    "#Creating a new column 'total_gross' summing up the two columns\n",
    "genre_income['total_gross'] = genre_income['domestic_gross'] + genre_income['worldwide_gross']\n",
    "\n",
    "#Sort the data frame by the total gross in descending order and have the genres with the highest income appear at the top\n",
    "genre_income = genre_income.sort_values('total_gross', ascending=False)\n",
    "\n",
    "genre_income.head(5)"
   ]
  },
  {
   "cell_type": "markdown",
   "metadata": {},
   "source": [
    "#  Find the correlation between the vote count and vote average\n",
    "* We use the 'tmdbmovies. df\n",
    "* Plot a scatter plot to show the correlation"
   ]
  },
  {
   "cell_type": "code",
   "execution_count": 42,
   "metadata": {},
   "outputs": [
    {
     "name": "stdout",
     "output_type": "stream",
     "text": [
      "Correlation between vote_count and vote_average: 0.08636988831138752\n"
     ]
    }
   ],
   "source": [
    "# calculate correlation between vote_count and vote_average\n",
    "corr = tmdb_df['vote_count'].corr(tmdb_df['vote_average'])\n",
    "\n",
    "print('Correlation between vote_count and vote_average:', corr)"
   ]
  },
  {
   "cell_type": "code",
   "execution_count": 43,
   "metadata": {},
   "outputs": [
    {
     "data": {
      "image/png": "[encoded data removed]",
      "text/plain": [
       "<Figure size 2880x1440 with 1 Axes>"
      ]
     },
     "metadata": {
      "needs_background": "light"
     },
     "output_type": "display_data"
    }
   ],
   "source": [
    "# plot scatter plot\n",
    "#Plot the scatter plot\n",
    "fig, ax = plt.subplots(figsize=(40, 20))\n",
    "\n",
    "#Labeliing the axes\n",
    "ax.scatter(tmdb_df['vote_count'], tmdb_df['vote_average'])\n",
    "ax.set_xlabel('Vote Average')\n",
    "ax.set_ylabel('Vote Count')\n",
    "ax.set_title('Vote Count vs. Vote Average\\nCorrelation: {:.2f}'.format(corr))\n",
    "plt.show()"
   ]
  },
  {
   "cell_type": "markdown",
   "metadata": {},
   "source": [
    "# Skewness and Kurtosis of the 'runtime'\n",
    "* By examining the skewness and kurtosis of runtime in the movieinfo_df dataset, we can gain insights into how movie runtimes are distributed and how they compare to a normal distribution.\n",
    "* This can be useful in understanding patterns in movie runtime and identifying any outliers or anomalies in the data. Box plots can also be helpful in visualizing these patterns and identifying any potential outliers."
   ]
  },
  {
   "cell_type": "code",
   "execution_count": 44,
   "metadata": {},
   "outputs": [
    {
     "name": "stdout",
     "output_type": "stream",
     "text": [
      "Runtime skewness: 2.242613327185838\n",
      "Runtime kurtosis: 17.572857716979282\n"
     ]
    }
   ],
   "source": [
    "# Read in the movieinfo_df DataFrame\n",
    "movieinfo_df = pd.read_csv('zippedData/rt.movie_info.tsv', sep='\\t')\n",
    "\n",
    "# Change the 'runtime' column to numeric\n",
    "movieinfo_df['runtime'] = movieinfo_df['runtime'].str.replace(' minutes', '').astype(float)\n",
    "\n",
    "\n",
    "# Calculate the skewness and kurtosis of the \"runtime\" column\n",
    "runtime_skew = movieinfo_df['runtime'].skew()\n",
    "runtime_kurtosis = movieinfo_df['runtime'].kurtosis()\n",
    "\n",
    "print('Runtime skewness:', runtime_skew)\n",
    "print('Runtime kurtosis:', runtime_kurtosis)"
   ]
  },
  {
   "cell_type": "code",
   "execution_count": 45,
   "metadata": {},
   "outputs": [
    {
     "data": {
      "image/png": "[encoded data removed]",
      "text/plain": [
       "<Figure size 432x288 with 1 Axes>"
      ]
     },
     "metadata": {
      "needs_background": "light"
     },
     "output_type": "display_data"
    }
   ],
   "source": [
    "# Create a histogram of the \"runtime\" column\n",
    "sns.histplot(movieinfo_df['runtime'], kde=True)\n",
    "\n",
    "# Add a vertical line at the mean\n",
    "plt.axvline(movieinfo_df['runtime'].mean(), color='r', linestyle='dashed', linewidth=2)\n",
    "\n",
    "# Add text labels for the skewness and kurtosis\n",
    "plt.text(150, 40, \"Skewness: {:.2f}\".format(movieinfo_df['runtime'].skew()))\n",
    "plt.text(150, 50, \"Kurtosis: {:.2f}\".format(movieinfo_df['runtime'].kurtosis()))\n",
    "\n",
    "# Show the plot\n",
    "plt.show()"
   ]
  }
 ],
 "metadata": {
  "kernelspec": {
   "display_name": "Python 3",
   "language": "python",
   "name": "python3"
  },
  "language_info": {
   "codemirror_mode": {
    "name": "ipython",
    "version": 3
   },
   "file_extension": ".py",
   "mimetype": "text/x-python",
   "name": "python",
   "nbconvert_exporter": "python",
   "pygments_lexer": "ipython3",
   "version": "3.8.5"
  }
 },
 "nbformat": 4,
 "nbformat_minor": 4
}
